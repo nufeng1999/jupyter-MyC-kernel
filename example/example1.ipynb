{
 "cells": [
  {
   "cell_type": "markdown",
   "id": "c261fd9f-6ca3-4b41-9dcc-a32aef8d8fe3",
   "metadata": {},
   "source": [
    "### Special note identification  \n",
    "//%cflags:  \n",
    "//%ldflags:  \n",
    "//%file:  \n",
    "//%onlycsfile  \n",
    "//%onlyrungcc  \n",
    "//%onlyruncmd  \n",
    "//%include:  \n",
    "//%command:  \n",
    "//%args:  "
   ]
  },
  {
   "cell_type": "code",
   "execution_count": 3,
   "id": "84c6ac8c-28bd-464e-9023-25e21ee03610",
   "metadata": {
    "tags": []
   },
   "outputs": [
    {
     "name": "stdout",
     "output_type": "stream",
     "text": [
      "[C kernel] Info:file created successfully\n",
      "中文!\n",
      "2 Hello world!\n"
     ]
    }
   ],
   "source": [
    "#include <stdio.h>\n",
    "#include <stdio.h>\n",
    "\n",
    "//%file:test1.c\n",
    "//%cflags: -o test1.out\n",
    "printf(\"中文!\\n\");\n",
    "//%include:test.c"
   ]
  },
  {
   "cell_type": "code",
   "execution_count": 2,
   "id": "a401b995-f2ba-4bd0-8c34-791587361740",
   "metadata": {
    "tags": []
   },
   "outputs": [
    {
     "name": "stdout",
     "output_type": "stream",
     "text": [
      "[C kernel] Info:file created successfully\n"
     ]
    }
   ],
   "source": [
    "//%file:test.c\n",
    "//%norun\n",
    "//%cflags: -o test.out\n",
    "printf(\"2 Hello world!\\n\");"
   ]
  },
  {
   "cell_type": "code",
   "execution_count": 1,
   "id": "5c590e0e-958c-4ac4-8930-fb033273f2dd",
   "metadata": {
    "tags": []
   },
   "outputs": [
    {
     "name": "stdout",
     "output_type": "stream",
     "text": [
      "[C kernel] Info: command success."
     ]
    }
   ],
   "source": [
    "//%onlyruncmd\n",
    "//%command:pkg-config --cflags gtk+-3.0 >1.txt"
   ]
  },
  {
   "cell_type": "code",
   "execution_count": null,
   "id": "a4c7ccfb-45b5-45f7-9d5f-3cf594f6142b",
   "metadata": {},
   "outputs": [],
   "source": []
  },
  {
   "cell_type": "code",
   "execution_count": 4,
   "id": "74e9bb86-5a21-4e4c-b60b-136c2fb5f6ff",
   "metadata": {},
   "outputs": [
    {
     "name": "stdout",
     "output_type": "stream",
     "text": [
      "[C kernel] Info:file created successfully\n"
     ]
    }
   ],
   "source": [
    "//%norun\n",
    "//%file:activate.c\n",
    "static void activate (GtkApplication* app,\n",
    "          gpointer        user_data)\n",
    "{\n",
    "  GtkWidget *window;\n",
    "\n",
    "  window = gtk_application_window_new (app);\n",
    "  gtk_window_set_title (GTK_WINDOW (window), \"Window\");\n",
    "  gtk_window_set_default_size (GTK_WINDOW (window), 200, 200);\n",
    "  gtk_widget_show_all (window);\n",
    "}\n"
   ]
  },
  {
   "cell_type": "code",
   "execution_count": 5,
   "id": "ce948f9a-39dd-4a5c-8834-3a7acf594236",
   "metadata": {},
   "outputs": [],
   "source": [
    "//%cflags:-pthread -I/usr/include/gtk-3.0 \n",
    "//%cflags:-I/usr/include/at-spi2-atk/2.0 \n",
    "//%cflags:-I/usr/include/at-spi-2.0 \n",
    "//%cflags:-I/usr/include/dbus-1.0 -I/usr/lib/x86_64-linux-gnu/dbus-1.0/include \n",
    "//%cflags:-I/usr/include/gtk-3.0 -I/usr/include/gio-unix-2.0 -I/usr/include/cairo \n",
    "//%cflags:-I/usr/include/pango-1.0 -I/usr/include/fribidi -I/usr/include/harfbuzz \n",
    "//%cflags:-I/usr/include/atk-1.0 -I/usr/include/cairo -I/usr/include/pixman-1 \n",
    "//%cflags:-I/usr/include/uuid -I/usr/include/freetype2 -I/usr/include/libpng16 \n",
    "//%cflags:-I/usr/include/gdk-pixbuf-2.0 -I/usr/include/libmount \n",
    "//%cflags:-I/usr/include/blkid -I/usr/include/glib-2.0 \n",
    "//%cflags:-I/usr/lib/x86_64-linux-gnu/glib-2.0/include\n",
    "//%cflags:-o testgtk.out\n",
    "\n",
    "//%ldflags:-lgtk-3 -lgdk-3 -lpangocairo-1.0 -lpango-1.0 \n",
    "//%ldflags:-lharfbuzz -latk-1.0 -lcairo-gobject \n",
    "//%ldflags:-lcairo -lgdk_pixbuf-2.0 -lgio-2.0 -lgobject-2.0 -lglib-2.0\n",
    "#include <gtk/gtk.h>\n",
    "//%include:activate.c\n",
    "\n",
    "int main(int argc,char **argv)\n",
    "{\n",
    "  GtkApplication *app;\n",
    "  int status;\n",
    "  \n",
    "  app = gtk_application_new (\"org.gtk.example\", G_APPLICATION_FLAGS_NONE);\n",
    "  g_signal_connect (app, \"activate\", G_CALLBACK (activate), NULL);\n",
    "  status = g_application_run (G_APPLICATION (app), argc, argv);\n",
    "  g_object_unref (app);\n",
    "\n",
    "  return status;\n",
    "}"
   ]
  },
  {
   "cell_type": "code",
   "execution_count": null,
   "id": "f34ad5fc-acbd-402b-8ef5-d6dbddbbddae",
   "metadata": {},
   "outputs": [],
   "source": []
  },
  {
   "cell_type": "code",
   "execution_count": null,
   "id": "eb42598b-5011-4ba8-bd06-81cba28ddbd8",
   "metadata": {},
   "outputs": [],
   "source": []
  }
 ],
 "metadata": {
  "kernelspec": {
   "display_name": "C",
   "language": "c",
   "name": "c"
  },
  "language_info": {
   "file_extension": ".c",
   "mimetype": "text/x-csrc",
   "name": "text/x-csrc"
  },
  "widgets": {
   "application/vnd.jupyter.widget-state+json": {
    "state": {},
    "version_major": 2,
    "version_minor": 0
   }
  }
 },
 "nbformat": 4,
 "nbformat_minor": 5
}
