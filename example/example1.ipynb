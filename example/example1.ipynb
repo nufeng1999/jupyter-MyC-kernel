{
 "cells": [
  {
   "cell_type": "markdown",
   "id": "fbb69001-a143-4290-82a0-23e90f8613d0",
   "metadata": {
    "tags": []
   },
   "source": [
    "### Special note identification  \n",
    "//%cflags:  编译参数\n",
    "//%ldflags:  连接参数\n",
    "//%args:  运行参数\n",
    "//%file:  指定生成的文件名\n",
    "\n",
    "//%onlycsfile  仅生成文件\n",
    "//%onlyrungcc  仅生成文件并运行gcc\n",
    "//%onlyruncmd  仅运行command\n",
    "//%showinput\n",
    "\n",
    "//%rungdb 启动gdb并执行gdb命令\n",
    "\n",
    "//%replcmdmode  交互式命令模式\n",
    "//%replsetip:   交互式程序启动后的提示字符串()\n",
    "//%replchildpid 交互式程序的PID\n",
    "//%runmode: repl 代码以交互式模式运行，这样便于代码接收stdin的输入信息。\n",
    "\n",
    "\n",
    "//%include:  包含文件\n",
    "//%templatefile: 模板文件\n",
    "//%command:  执行shell等命令\n",
    "//%env:  指定执行代码和命令时的环境变量\n",
    "//%outputtype: mime-type(text/html,text/plain,......)\n"
   ]
  },
  {
   "cell_type": "code",
   "execution_count": null,
   "id": "3efa8fe1",
   "metadata": {},
   "outputs": [],
   "source": []
  },
  {
   "cell_type": "code",
   "execution_count": null,
   "metadata": {},
   "outputs": [],
   "source": []
  },
  {
   "cell_type": "markdown",
   "id": "5243f505-d96e-41cb-8049-a5bade4760c3",
   "metadata": {
    "tags": []
   },
   "source": [
    "### 片段交互式开发"
   ]
  },
  {
   "cell_type": "code",
   "execution_count": null,
   "id": "33035a8d-0e98-4eb2-981f-e94c7cb8c8df",
   "metadata": {
    "tags": []
   },
   "outputs": [],
   "source": [
    "//\n",
    "//%runmode:repl\n",
    "//%replsetip:Please enter text\n",
    "//%file:test0.c\n",
    "//%cflags: -g -o test0.out\n",
    "\n",
    "#include <stdio.h>\n",
    "#include <stdlib.h>\n",
    "#include <string.h>\n",
    "#include <unistd.h>\n",
    "#include <signal.h>\n",
    "#include <sys/prctl.h>\n",
    "\n",
    "int getsline(char *result)\n",
    "{\n",
    "    int point = 0;\n",
    "    int word;\n",
    "    long i=0;\n",
    "    while(1)\n",
    "    {\n",
    "        i++;\n",
    "        usleep(15);\n",
    "        word = getc(stdin);//等待用户输入或从缓存中读一个字符\n",
    "        if(word != '\\n')//读到回车符就认为一行指令被读完了\n",
    "        {\n",
    "            *result = word;//记录这个字符\n",
    "            result ++;\n",
    "            point ++;\n",
    "            //putc(word,stdout);\n",
    "        }\n",
    "        else\n",
    "        {\n",
    "            result = '\\0';//给指针末尾添加一个结束符\n",
    "            result = result - point;//让指针指回字符串的头\n",
    "            return 0;\n",
    "        }\n",
    "    }\n",
    "    return 0;\n",
    "}\n",
    "\n",
    "int main()\n",
    "{\n",
    "    // char buff[3];\n",
    "   \n",
    "   // memset( buff, '\\0', sizeof( buff ));\n",
    "   \n",
    "   // fprintf(stdout, \"Going to set full buffering on\\n\");\n",
    "   // setvbuf(stdout, buff, _IOFBF, 3);\n",
    "    char *line;\n",
    "    line = malloc(150);\n",
    "    // sleep(60);\n",
    "    printf(\"3Please enter 1text\\r\\n\");\n",
    "    printf(\"3Please enter 2text\\r\\n\");\n",
    "    printf(\"Please enter text\\r\\n\");\n",
    "    // fflush(stdout);\n",
    "    getsline(line);\n",
    "    printf(\"You enter:%s\\r\\n\",line);\n",
    "    sleep(4);\n",
    "    printf(\"3Please enter 3text\\r\\n\");\n",
    "\n",
    "    sleep(4);\n",
    "    printf(\"4Please enter 4text\\r\\n\");\n",
    "    fflush(stdout);\n",
    "    free(line);\n",
    "    // sleep(60);\n",
    "    // prctl(PR_SET_PDEATHSIG,SIGHUP);\n",
    "    // raise(SIGCHLD);\n",
    "    return 0;\n",
    "}"
   ]
  },
  {
   "cell_type": "code",
   "execution_count": null,
   "id": "a003070d-7342-4df5-8c73-656b4ae0d441",
   "metadata": {
    "tags": []
   },
   "outputs": [],
   "source": [
    "//%replcmdmode\n",
    "//%replchildpid:20888\n",
    "iiiiwiiiiiiiiiiiiii"
   ]
  },
  {
   "cell_type": "code",
   "execution_count": null,
   "id": "84c6ac8c-28bd-464e-9023-25e21ee03610",
   "metadata": {
    "tags": []
   },
   "outputs": [],
   "source": [
    "//%file:test2.c\n",
    "//%cflags: -g -o test2.out\n",
    "//%file\n",
    "//%env:MYNAME=ZY  zy=\"test is 123 \"\n",
    "#include <stdio.h>\n",
    "#include <stdlib.h>\n",
    "#include <unistd.h>\n",
    "int main(int argc, char* argv[], char** env){\n",
    "    // sleep(5);\n",
    "    printf(\"env: Myname is %s\\n\",getenv(\"MYNAME\"));\n",
    "    printf(\"env: zy is %s\\n\",getenv(\"zy\"));\n",
    "    printf(\"env: Myname is %s\\n\",env[1]);\n",
    "    printf(\"中文111!\\n\");\n",
    "    // char** env1;\n",
    "    // for (env1=env; *env1 != 0; env1++)\n",
    "    // {\n",
    "    //     char* thisEnv = *env1;\n",
    "    //     printf(\"%s\\n\", thisEnv);\n",
    "    // }\n",
    "    return 0;\n",
    "}\n",
    "///%include:test.c"
   ]
  },
  {
   "cell_type": "code",
   "execution_count": 1,
   "id": "a401b995-f2ba-4bd0-8c34-791587361740",
   "metadata": {
    "tags": []
   },
   "outputs": [
    {
     "data": {
      "text/plain": [
       "[MyC Kernel] Info:file /root/Jupyter/jupyter-MyC-kernel/example/test5.c.new.c created successfully\n"
      ]
     },
     "metadata": {
      "text/plain": {}
     },
     "output_type": "display_data"
    },
    {
     "name": "stdout",
     "output_type": "stream",
     "text": [
      "Generating executable file\n"
     ]
    },
    {
     "data": {
      "text/plain": [
       "[MyC Kernel] Info: gcc /root/Jupyter/jupyter-MyC-kernel/example/test5.c.new.c -o /tmp/tmpo48wk3kb.out -DBUFFERED_OUTPUT -lm -Wall\n"
      ]
     },
     "metadata": {
      "text/plain": {}
     },
     "output_type": "display_data"
    },
    {
     "name": "stdout",
     "output_type": "stream",
     "text": [
      "The process :/tmp/tmpo48wk3kb.out\n",
      "The process PID:2714\n"
     ]
    },
    {
     "data": {
      "text/html": [
       "<hr><h1>2 Hello world!</h1>\n"
      ]
     },
     "metadata": {
      "text/html": {}
     },
     "output_type": "display_data"
    }
   ],
   "source": [
    "//%outputtype:text/html\n",
    "///%showinput\n",
    "////%overwritefile\n",
    "//%showpid\n",
    "//%file:test5.c\n",
    "/**\n",
    " * 这是测试hhh\n",
    " */\n",
    "printf(\"<hr><h1>2 Hello world!</h1>\\n\");"
   ]
  },
  {
   "cell_type": "code",
   "execution_count": null,
   "id": "5c590e0e-958c-4ac4-8930-fb033273f2dd",
   "metadata": {
    "tags": []
   },
   "outputs": [],
   "source": [
    "//%onlyruncmd\n",
    "//%command:pkg-config --cflags gtk+-3.0 \n",
    "//%command:pkg-config --libs gtk+-3.0 >gtk_ldflags.txt"
   ]
  },
  {
   "cell_type": "code",
   "execution_count": null,
   "id": "a4c7ccfb-45b5-45f7-9d5f-3cf594f6142b",
   "metadata": {
    "tags": []
   },
   "outputs": [],
   "source": []
  },
  {
   "cell_type": "code",
   "execution_count": null,
   "id": "74e9bb86-5a21-4e4c-b60b-136c2fb5f6ff",
   "metadata": {
    "tags": []
   },
   "outputs": [],
   "source": [
    "//%norun\n",
    "//%file:activate.c\n",
    "static void activate (GtkApplication* app,\n",
    "          gpointer        user_data)\n",
    "{\n",
    "  GtkWidget *window;\n",
    "\n",
    "  window = gtk_application_window_new (app);\n",
    "  gtk_window_set_title (GTK_WINDOW (window), \"Window\");\n",
    "  gtk_window_set_default_size (GTK_WINDOW (window), 200, 200);\n",
    "  gtk_widget_show_all (window);\n",
    "}\n"
   ]
  },
  {
   "cell_type": "code",
   "execution_count": null,
   "id": "ce948f9a-39dd-4a5c-8834-3a7acf594236",
   "metadata": {
    "tags": []
   },
   "outputs": [],
   "source": [
    "//%cflags:-pthread -I/usr/include/gtk-3.0 \n",
    "//%cflags:-I/usr/include/at-spi2-atk/2.0 \n",
    "//%cflags:-I/usr/include/at-spi-2.0 \n",
    "//%cflags:-I/usr/include/dbus-1.0 -I/usr/lib/x86_64-linux-gnu/dbus-1.0/include \n",
    "//%cflags:-I/usr/include/gtk-3.0 -I/usr/include/gio-unix-2.0 -I/usr/include/cairo \n",
    "//%cflags:-I/usr/include/pango-1.0 -I/usr/include/fribidi -I/usr/include/harfbuzz \n",
    "//%cflags:-I/usr/include/atk-1.0 -I/usr/include/cairo -I/usr/include/pixman-1 \n",
    "//%cflags:-I/usr/include/uuid -I/usr/include/freetype2 -I/usr/include/libpng16 \n",
    "//%cflags:-I/usr/include/gdk-pixbuf-2.0 -I/usr/include/libmount \n",
    "//%cflags:-I/usr/include/blkid -I/usr/include/glib-2.0 \n",
    "//%cflags:-I/usr/lib/x86_64-linux-gnu/glib-2.0/include\n",
    "//%cflags:-o testgtk.out\n",
    "//%env:MYNAME=ZY\n",
    "//%ldflags:-lgtk-3 -lgdk-3 -lpangocairo-1.0 -lpango-1.0 \n",
    "//%ldflags:-lharfbuzz -latk-1.0 -lcairo-gobject \n",
    "//%ldflags:-lcairo -lgdk_pixbuf-2.0 -lgio-2.0 -lgobject-2.0 -lglib-2.0\n",
    "#include <gtk/gtk.h>\n",
    "//%include:activate.c\n",
    "\n",
    "int main(int argc,char **argv)\n",
    "{\n",
    "  GtkApplication *app;\n",
    "  int status;\n",
    "  \n",
    "  app = gtk_application_new (\"org.gtk.example\", G_APPLICATION_FLAGS_NONE);\n",
    "  g_signal_connect (app, \"activate\", G_CALLBACK (activate), NULL);\n",
    "  status = g_application_run (G_APPLICATION (app), argc, argv);\n",
    "  g_object_unref (app);\n",
    "\n",
    "  return status;\n",
    "}"
   ]
  },
  {
   "cell_type": "code",
   "execution_count": null,
   "id": "f34ad5fc-acbd-402b-8ef5-d6dbddbbddae",
   "metadata": {},
   "outputs": [],
   "source": []
  },
  {
   "cell_type": "code",
   "execution_count": null,
   "id": "eb42598b-5011-4ba8-bd06-81cba28ddbd8",
   "metadata": {},
   "outputs": [],
   "source": [
    "//%rungdb\n",
    "shell cat test1.c"
   ]
  },
  {
   "cell_type": "code",
   "execution_count": null,
   "id": "3bca3149-af94-4eb8-b4fc-ee63dfa099d3",
   "metadata": {},
   "outputs": [],
   "source": [
    "//%rungdb\n",
    "file test1.out"
   ]
  },
  {
   "cell_type": "code",
   "execution_count": null,
   "id": "c438fda8-7405-4ae2-a381-6654e9c736b7",
   "metadata": {},
   "outputs": [],
   "source": [
    "//%rungdb\n",
    "list\n",
    "run"
   ]
  },
  {
   "cell_type": "code",
   "execution_count": null,
   "id": "35bfe343-2506-47ef-aa13-4b4c32c5fd4e",
   "metadata": {},
   "outputs": [],
   "source": [
    "//%rungdb\n",
    "c"
   ]
  },
  {
   "cell_type": "code",
   "execution_count": null,
   "id": "b76941ea-1e66-417d-b0f8-502889c7b310",
   "metadata": {},
   "outputs": [],
   "source": [
    "//%rungdb\n",
    "b 7"
   ]
  },
  {
   "cell_type": "code",
   "execution_count": null,
   "id": "cd16ddc8-1720-444b-ba03-2dca1de4dbe7",
   "metadata": {},
   "outputs": [],
   "source": [
    "//%rungdb\n",
    "info break"
   ]
  },
  {
   "cell_type": "code",
   "execution_count": null,
   "id": "d285e61b-d20d-4fd0-8c48-f329a380f951",
   "metadata": {},
   "outputs": [],
   "source": [
    "//%rungdb\n",
    "c"
   ]
  },
  {
   "cell_type": "code",
   "execution_count": null,
   "id": "2bc9f420-297f-4136-b822-cc2bcfe8048b",
   "metadata": {},
   "outputs": [],
   "source": [
    "中文111!"
   ]
  },
  {
   "cell_type": "code",
   "execution_count": null,
   "id": "c61a5f35-dd49-4899-89a4-ddc26fb1d4aa",
   "metadata": {
    "tags": []
   },
   "outputs": [],
   "source": [
    "//%rungdb\n",
    "//%command:make --help"
   ]
  },
  {
   "cell_type": "code",
   "execution_count": null,
   "id": "7b1d6f3e-0536-4a29-8e6c-97b809321404",
   "metadata": {},
   "outputs": [],
   "source": [
    "//gcc 内置默认的宏定义\n",
    "//%rungdb\n",
    "//%command:gcc -E -dM -</dev/null"
   ]
  },
  {
   "cell_type": "code",
   "execution_count": null,
   "id": "05891a65-c696-4eda-b64e-72384e4d040f",
   "metadata": {},
   "outputs": [],
   "source": [
    "///%onlyruncmd\n",
    "//%overwritefile\n",
    "\n",
    "///%kcmd:list\n",
    "\n",
    "printf(\"----test----\\n\");"
   ]
  },
  {
   "cell_type": "code",
   "execution_count": null,
   "id": "62ce4bf4",
   "metadata": {},
   "outputs": [],
   "source": []
  }
 ],
 "metadata": {
  "interpreter": {
   "hash": "75596ead963b1eeb4cf3ce4e8a9c4a864202dd5fd95b19dff9cbdac9756331e2"
  },
  "kernelspec": {
   "display_name": "MyC",
   "language": "C",
   "name": "myc"
  },
  "language_info": {
   "file_extension": ".c",
   "mimetype": "text/x-csrc",
   "name": "text/x-csrc"
  },
  "widgets": {
   "application/vnd.jupyter.widget-state+json": {
    "state": {},
    "version_major": 2,
    "version_minor": 0
   }
  }
 },
 "nbformat": 4,
 "nbformat_minor": 5
}
