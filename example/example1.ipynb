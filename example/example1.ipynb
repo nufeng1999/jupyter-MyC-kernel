{
 "cells": [
  {
   "cell_type": "code",
   "execution_count": 3,
   "id": "3efa8fe1",
   "metadata": {},
   "outputs": [
    {
     "name": "stdout",
     "output_type": "stream",
     "text": [
      "[MyC Kernel] Info:file H:/Jupyter/jupyter-MyC-kernel/example/src/test.c created successfully\n",
      "[MyC Kernel] Info:Generating executable file\n",
      "[MyC Kernel] Info:cl /Fe:src\\test.exe /source-charset:utf-8 H:/Jupyter/jupyter-MyC-kernel/example/src/test.c /execution-charset:utf-8 \n",
      "RealTimeSubprocess err:[WinError 2] 系统找不到指定的文件。"
     ]
    },
    {
     "name": "stderr",
     "output_type": "stream",
     "text": [
      "[MyC Kernel] Error:[WinError 2] 系统找不到指定的文件。"
     ]
    }
   ],
   "source": [
    "//%ccompiler:cl\n",
    "//%cflags: /Fe:src\\test.exe /source-charset:utf-8\n",
    "//%ldflags:/execution-charset:utf-8\n",
    "///%execfile:src/test.exe\n",
    "//%overwritefile\n",
    "//%file:src/test.c\n",
    "///%noruncode\n",
    "//%log:1\n",
    "#include <stdio.h>\n",
    "#include <math.h>\n",
    "int main(int argc, char* argv[], char** env){\n",
    "printf(\"----中文----\\n\");\n",
    "\n",
    "return 0;\n",
    "}"
   ]
  },
  {
   "cell_type": "code",
   "execution_count": null,
   "id": "33035a8d-0e98-4eb2-981f-e94c7cb8c8df",
   "metadata": {
    "tags": []
   },
   "outputs": [],
   "source": [
    "//\n",
    "//%runmode:repl\n",
    "//%replsetip:Please enter text\n",
    "//%file:test0.c\n",
    "//%cflags: -g -o test0.out\n",
    "\n",
    "#include <stdio.h>\n",
    "#include <stdlib.h>\n",
    "#include <string.h>\n",
    "#include <unistd.h>\n",
    "#include <signal.h>\n",
    "#include <sys/prctl.h>\n",
    "\n",
    "int getsline(char *result)\n",
    "{\n",
    "    int point = 0;\n",
    "    int word;\n",
    "    long i=0;\n",
    "    while(1)\n",
    "    {\n",
    "        i++;\n",
    "        usleep(15);\n",
    "        word = getc(stdin);//等待用户输入或从缓存中读一个字符\n",
    "        if(word != '\\n')//读到回车符就认为一行指令被读完了\n",
    "        {\n",
    "            *result = word;//记录这个字符\n",
    "            result ++;\n",
    "            point ++;\n",
    "        }\n",
    "        else\n",
    "        {\n",
    "            result = '\\0';//给指针末尾添加一个结束符\n",
    "            result = result - point;//让指针指回字符串的头\n",
    "            return 0;\n",
    "        }\n",
    "    }\n",
    "    return 0;\n",
    "}\n",
    "\n",
    "int main()\n",
    "{\n",
    "    char *line;\n",
    "    line = malloc(150);\n",
    "    getsline(line);\n",
    "    printf(\"You enter:%s\\r\\n\",line);\n",
    "    free(line);\n",
    "    return 0;\n",
    "}"
   ]
  },
  {
   "cell_type": "code",
   "execution_count": null,
   "id": "a003070d-7342-4df5-8c73-656b4ae0d441",
   "metadata": {
    "tags": []
   },
   "outputs": [],
   "source": [
    "//%replcmdmode\n",
    "//%replchildpid:20888\n",
    "iiiiwiiiiiiiiiiiiii"
   ]
  },
  {
   "cell_type": "code",
   "execution_count": null,
   "id": "84c6ac8c-28bd-464e-9023-25e21ee03610",
   "metadata": {
    "tags": []
   },
   "outputs": [],
   "source": [
    "//%file:test2.c\n",
    "//%cflags: -g -o test2.out\n",
    "//%file\n",
    "//%env:MYNAME=ZY  zy=\"test is 123 \"\n",
    "#include <stdio.h>\n",
    "#include <stdlib.h>\n",
    "#include <unistd.h>\n",
    "int main(int argc, char* argv[], char** env){\n",
    "    // sleep(5);\n",
    "    printf(\"env: Myname is %s\\n\",getenv(\"MYNAME\"));\n",
    "    printf(\"env: zy is %s\\n\",getenv(\"zy\"));\n",
    "    printf(\"env: Myname is %s\\n\",env[1]);\n",
    "    printf(\"中文111!\\n\");\n",
    "    return 0;\n",
    "}\n",
    "///%include:test.c"
   ]
  },
  {
   "cell_type": "code",
   "execution_count": 1,
   "id": "a401b995-f2ba-4bd0-8c34-791587361740",
   "metadata": {
    "tags": []
   },
   "outputs": [
    {
     "data": {
      "text/html": [
       "<hr><h1>2 Hello world!</h1>\n"
      ]
     },
     "metadata": {
      "text/html": {}
     },
     "output_type": "display_data"
    }
   ],
   "source": [
    "//%log:0\n",
    "//%outputtype:text/html\n",
    "///%showinput\n",
    "////%overwritefile\n",
    "//%showpid\n",
    "//%file:test5.c\n",
    "/**\n",
    " * 这是测试hhh\n",
    " */\n",
    "printf(\"<hr><h1>2 Hello world!</h1>\\n\");"
   ]
  },
  {
   "cell_type": "code",
   "execution_count": null,
   "id": "7449c183",
   "metadata": {},
   "outputs": [],
   "source": [
    "##//%outputtype:text/html\n",
    "##%runprg:bash \n",
    "##%runprgargs:test.sh\n",
    "##%overwritefile\n",
    "##%file:test.sh\n",
    "echo \"脚本文件测试\"\n",
    "ls\n"
   ]
  },
  {
   "cell_type": "code",
   "execution_count": null,
   "id": "5c590e0e-958c-4ac4-8930-fb033273f2dd",
   "metadata": {
    "tags": []
   },
   "outputs": [],
   "source": [
    "//%onlyruncmd\n",
    "//%log:1\n",
    "//%command:pkg-config --cflags gtk+-3.0 \n",
    "//%command:pkg-config --libs gtk+-3.0 \n",
    "//%command:ls"
   ]
  },
  {
   "cell_type": "code",
   "execution_count": null,
   "id": "74e9bb86-5a21-4e4c-b60b-136c2fb5f6ff",
   "metadata": {
    "tags": []
   },
   "outputs": [],
   "source": [
    "//%norun\n",
    "//%file:activate.c\n",
    "static void activate (GtkApplication* app,\n",
    "          gpointer        user_data)\n",
    "{\n",
    "  GtkWidget *window;\n",
    "\n",
    "  window = gtk_application_window_new (app);\n",
    "  gtk_window_set_title (GTK_WINDOW (window), \"Window\");\n",
    "  gtk_window_set_default_size (GTK_WINDOW (window), 200, 200);\n",
    "  gtk_widget_show_all (window);\n",
    "}\n"
   ]
  },
  {
   "cell_type": "code",
   "execution_count": null,
   "id": "ce948f9a-39dd-4a5c-8834-3a7acf594236",
   "metadata": {
    "tags": []
   },
   "outputs": [],
   "source": [
    "//%cflags:-pthread -I/usr/include/gtk-3.0 \n",
    "//%cflags:-I/usr/include/at-spi2-atk/2.0 \n",
    "//%cflags:-I/usr/include/at-spi-2.0 \n",
    "//%cflags:-I/usr/include/dbus-1.0 -I/usr/lib/x86_64-linux-gnu/dbus-1.0/include \n",
    "//%cflags:-I/usr/include/gtk-3.0 -I/usr/include/gio-unix-2.0 -I/usr/include/cairo \n",
    "//%cflags:-I/usr/include/pango-1.0 -I/usr/include/fribidi -I/usr/include/harfbuzz \n",
    "//%cflags:-I/usr/include/atk-1.0 -I/usr/include/cairo -I/usr/include/pixman-1 \n",
    "//%cflags:-I/usr/include/uuid -I/usr/include/freetype2 -I/usr/include/libpng16 \n",
    "//%cflags:-I/usr/include/gdk-pixbuf-2.0 -I/usr/include/libmount \n",
    "//%cflags:-I/usr/include/blkid -I/usr/include/glib-2.0 \n",
    "//%cflags:-I/usr/lib/x86_64-linux-gnu/glib-2.0/include\n",
    "//%cflags:-o testgtk.out\n",
    "//%env:MYNAME=ZY\n",
    "//%ldflags:-lgtk-3 -lgdk-3 -lpangocairo-1.0 -lpango-1.0 \n",
    "//%ldflags:-lharfbuzz -latk-1.0 -lcairo-gobject \n",
    "//%ldflags:-lcairo -lgdk_pixbuf-2.0 -lgio-2.0 -lgobject-2.0 -lglib-2.0\n",
    "#include <gtk/gtk.h>\n",
    "//%include:activate.c\n",
    "\n",
    "int main(int argc,char **argv)\n",
    "{\n",
    "  GtkApplication *app;\n",
    "  int status;\n",
    "  \n",
    "  app = gtk_application_new (\"org.gtk.example\", G_APPLICATION_FLAGS_NONE);\n",
    "  g_signal_connect (app, \"activate\", G_CALLBACK (activate), NULL);\n",
    "  status = g_application_run (G_APPLICATION (app), argc, argv);\n",
    "  g_object_unref (app);\n",
    "\n",
    "  return status;\n",
    "}"
   ]
  },
  {
   "cell_type": "code",
   "execution_count": null,
   "id": "eb42598b-5011-4ba8-bd06-81cba28ddbd8",
   "metadata": {},
   "outputs": [],
   "source": [
    "//%rungdb\n",
    "shell cat test1.c"
   ]
  },
  {
   "cell_type": "code",
   "execution_count": null,
   "id": "3bca3149-af94-4eb8-b4fc-ee63dfa099d3",
   "metadata": {},
   "outputs": [],
   "source": [
    "//%rungdb\n",
    "file test1.out"
   ]
  },
  {
   "cell_type": "code",
   "execution_count": null,
   "id": "c438fda8-7405-4ae2-a381-6654e9c736b7",
   "metadata": {},
   "outputs": [],
   "source": [
    "//%rungdb\n",
    "list\n",
    "run"
   ]
  },
  {
   "cell_type": "code",
   "execution_count": null,
   "id": "35bfe343-2506-47ef-aa13-4b4c32c5fd4e",
   "metadata": {},
   "outputs": [],
   "source": [
    "//%rungdb\n",
    "c"
   ]
  },
  {
   "cell_type": "code",
   "execution_count": null,
   "id": "b76941ea-1e66-417d-b0f8-502889c7b310",
   "metadata": {},
   "outputs": [],
   "source": [
    "//%rungdb\n",
    "b 7"
   ]
  },
  {
   "cell_type": "code",
   "execution_count": null,
   "id": "cd16ddc8-1720-444b-ba03-2dca1de4dbe7",
   "metadata": {},
   "outputs": [],
   "source": [
    "//%rungdb\n",
    "info break"
   ]
  },
  {
   "cell_type": "code",
   "execution_count": null,
   "id": "d285e61b-d20d-4fd0-8c48-f329a380f951",
   "metadata": {},
   "outputs": [],
   "source": [
    "//%rungdb\n",
    "c"
   ]
  },
  {
   "cell_type": "code",
   "execution_count": null,
   "id": "2bc9f420-297f-4136-b822-cc2bcfe8048b",
   "metadata": {},
   "outputs": [],
   "source": [
    "中文111!"
   ]
  },
  {
   "cell_type": "code",
   "execution_count": null,
   "id": "c61a5f35-dd49-4899-89a4-ddc26fb1d4aa",
   "metadata": {
    "tags": []
   },
   "outputs": [],
   "source": [
    "//%rungdb\n",
    "//%command:make --help"
   ]
  },
  {
   "cell_type": "code",
   "execution_count": null,
   "id": "7b1d6f3e-0536-4a29-8e6c-97b809321404",
   "metadata": {},
   "outputs": [],
   "source": [
    "//gcc 内置默认的宏定义\n",
    "//%rungdb\n",
    "//%command:gcc -E -dM -</dev/null"
   ]
  },
  {
   "cell_type": "code",
   "execution_count": null,
   "id": "05891a65-c696-4eda-b64e-72384e4d040f",
   "metadata": {},
   "outputs": [],
   "source": [
    "///%onlyruncmd\n",
    "//%overwritefile\n",
    "\n",
    "///%kcmd:list\n",
    "\n",
    "printf(\"----test----\\n\");"
   ]
  },
  {
   "cell_type": "code",
   "execution_count": null,
   "id": "62ce4bf4",
   "metadata": {},
   "outputs": [],
   "source": [
    "//\n",
    "//%runinterm\n",
    "//%file:test0.c\n",
    "//%cflags: -g -o test0.out\n",
    "\n",
    "#include <stdio.h>\n",
    "#include <stdlib.h>\n",
    "#include <string.h>\n",
    "#include <unistd.h>\n",
    "#include <signal.h>\n",
    "#include <sys/prctl.h>\n",
    "\n",
    "int getsline(char *result)\n",
    "{\n",
    "    int point = 0;\n",
    "    int word;\n",
    "    long i=0;\n",
    "    while(1)\n",
    "    {\n",
    "        i++;\n",
    "        usleep(15);\n",
    "        word = getc(stdin);//等待用户输入或从缓存中读一个字符\n",
    "        if(word != '\\n')//读到回车符就认为一行指令被读完了\n",
    "        {\n",
    "            *result = word;//记录这个字符\n",
    "            result ++;\n",
    "            point ++;\n",
    "            //putc(word,stdout);\n",
    "        }\n",
    "        else\n",
    "        {\n",
    "            result = '\\0';//给指针末尾添加一个结束符\n",
    "            result = result - point;//让指针指回字符串的头\n",
    "            return 0;\n",
    "        }\n",
    "    }\n",
    "    return 0;\n",
    "}\n",
    "\n",
    "int main()\n",
    "{\n",
    "    char *line;\n",
    "    line = malloc(150);\n",
    "    // sleep(60);\n",
    "\n",
    "    printf(\"Please enter text\\r\\n\");\n",
    "    getsline(line);\n",
    "    printf(\"You enter:%s\\r\\n\",line);\n",
    "    free(line);\n",
    "    return 0;\n",
    "}"
   ]
  }
 ],
 "metadata": {
  "interpreter": {
   "hash": "22800efcd4c49881911a0b2d8a79797207328a6a642f3a84c2d705a7929860d9"
  },
  "kernelspec": {
   "display_name": "MyC",
   "language": "C",
   "name": "myc"
  },
  "language_info": {
   "file_extension": ".c",
   "mimetype": "text/x-csrc",
   "name": "text/x-csrc"
  },
  "widgets": {
   "application/vnd.jupyter.widget-state+json": {
    "state": {},
    "version_major": 2,
    "version_minor": 0
   }
  }
 },
 "nbformat": 4,
 "nbformat_minor": 5
}
