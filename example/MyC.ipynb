{
 "cells": [
  {
   "cell_type": "markdown",
   "id": "bede2372",
   "metadata": {},
   "source": [
    "#### MicroSoft MSVC cl"
   ]
  },
  {
   "cell_type": "code",
   "execution_count": null,
   "id": "6ebd1abf-5c02-4aec-bd80-402cfe97e474",
   "metadata": {},
   "outputs": [],
   "source": [
    "//---------------------------\n",
    "//%runinterm\n",
    "//%term:c:\\Windows\\System32\\cmd.exe /c start\n",
    "//%execfile:src\\test.exe\n",
    "//---------------------------\n",
    "//%ccompiler:cl\n",
    "//%cflags: /Fe:src\\test.exe /source-charset:utf-8\n",
    "//%ldflags:/execution-charset:utf-8\n",
    "//---------------------------\n",
    "//%overwritefile\n",
    "//%file:src/test.c\n",
    "///%noruncode\n",
    "//%log:1\n",
    "//---------------------------\n",
    "#include <stdio.h>\n",
    "int main(){\n",
    "    printf(\"Hello World!\\n\");\n",
    "}"
   ]
  },
  {
   "cell_type": "code",
   "execution_count": null,
   "id": "362ad520-40e3-4ee4-9ab2-adcb76e30abc",
   "metadata": {},
   "outputs": [],
   "source": [
    "##%overwritefile\n",
    "##%file:print256colours.sh\n",
    "##%runprg:gnome-terminal\n",
    "##%runprgargs:l -- /bin/bash print256colours.sh &\n",
    "##%loadurl:https://gist.github.com/danieldietrich/1606ca62a93c94dfb3b44f81303e744a/raw/e50a28ec54188d2413518788de6c6367ffcea4f7/print256colours.sh\n",
    "get_char()\n",
    "{\n",
    "SAVEDSTTY=`stty -g`\n",
    "stty -echo\n",
    "stty cbreak\n",
    "dd if=/dev/tty bs=1 count=1 2> /dev/null\n",
    "stty -raw\n",
    "stty echo\n",
    "stty $SAVEDSTTY\n",
    "}\n",
    "echo \"\"\n",
    "echo \"Press any key to start...or Press Ctrl+c to cancel\"\n",
    "char=`get_char`\n",
    "echo \"hello world\""
   ]
  },
  {
   "cell_type": "code",
   "execution_count": null,
   "id": "153b47e5",
   "metadata": {},
   "outputs": [],
   "source": [
    "//%//runmode:repl\n",
    "//%replsetip:Please enter text\n",
    "//%file:test0.c\n",
    "//%cflags: -g -o test0.out\n",
    "//%runinterm\n",
    "\n",
    "#include <stdio.h>\n",
    "#include <stdlib.h>\n",
    "#include <string.h>\n",
    "#include <unistd.h>\n",
    "#include <signal.h>\n",
    "#include <sys/prctl.h>\n",
    "\n",
    "int getsline(char *result)\n",
    "{\n",
    "    int point = 0;\n",
    "    int word;\n",
    "    long i=0;\n",
    "    while(1)\n",
    "    {\n",
    "        i++;\n",
    "        usleep(15);\n",
    "        word = getc(stdin);//等待用户输入或从缓存中读一个字符\n",
    "        if(word != '\\n')//读到回车符就认为一行指令被读完了\n",
    "        {\n",
    "            *result = word;//记录这个字符\n",
    "            result ++;\n",
    "            point ++;\n",
    "            //putc(word,stdout);\n",
    "        }\n",
    "        else\n",
    "        {\n",
    "            result = '\\0';//给指针末尾添加一个结束符\n",
    "            result = result - point;//让指针指回字符串的头\n",
    "            return 0;\n",
    "        }\n",
    "    }\n",
    "    return 0;\n",
    "}\n",
    "\n",
    "int main()\n",
    "{\n",
    "    char *line;\n",
    "    line = malloc(150);\n",
    "    printf(\"Please enter text\\r\\n\");\n",
    "    getsline(line);\n",
    "    printf(\"You enter:%s\\r\\n\",line);\n",
    "    free(line);\n",
    "    return 0;\n",
    "}"
   ]
  },
  {
   "cell_type": "markdown",
   "id": "5063829f",
   "metadata": {},
   "source": [
    "#### Cygwin GCC"
   ]
  },
  {
   "cell_type": "code",
   "execution_count": null,
   "id": "9f2597ff",
   "metadata": {},
   "outputs": [],
   "source": [
    "//---------------------------\n",
    "//%runinterm\n",
    "///%term:c:\\Windows\\System32\\cmd.exe /c start\n",
    "//%cflags: -o src/test.exe\n",
    "///%ldflags:\n",
    "//----------------------------------\n",
    "//%overwritefile\n",
    "//%file:src/test.c\n",
    "///%noruncode\n",
    "//%log:0\n",
    "//----------------------------------\n",
    "#include <stdio.h>\n",
    "int main(){\n",
    "    printf(\"Hello World!中文测试\\n\");\n",
    "}"
   ]
  },
  {
   "cell_type": "markdown",
   "id": "af2387eb",
   "metadata": {},
   "source": [
    "MSYS2 GCC"
   ]
  },
  {
   "cell_type": "code",
   "execution_count": null,
   "id": "52ba7c86",
   "metadata": {},
   "outputs": [],
   "source": [
    "//---------------------------\n",
    "//%runinterm\n",
    "//%term:c:\\Windows\\System32\\cmd.exe /c start bash\n",
    "//%cflags: -o src/test.exe\n",
    "///%ldflags:\n",
    "//----------------------------------\n",
    "//%overwritefile\n",
    "//%file:src/test.c\n",
    "///%noruncode\n",
    "//%log:1\n",
    "//----------------------------------\n",
    "#include <stdio.h>\n",
    "int main(){\n",
    "    printf(\"Hello World!中文测试\\n\");\n",
    "}"
   ]
  },
  {
   "cell_type": "code",
   "execution_count": null,
   "id": "7ad60624",
   "metadata": {},
   "outputs": [],
   "source": [
    "//%rungdb\n",
    "help"
   ]
  },
  {
   "cell_type": "code",
   "execution_count": null,
   "id": "15d76493",
   "metadata": {},
   "outputs": [],
   "source": [
    "//%rungdb\n",
    "quit"
   ]
  },
  {
   "cell_type": "code",
   "execution_count": null,
   "id": "02e448fb",
   "metadata": {},
   "outputs": [],
   "source": []
  }
 ],
 "metadata": {
  "interpreter": {
   "hash": "790d66b9a7d127603100553f17b106d8e2aaf6777ced79107fc93b8d84add8f0"
  },
  "kernelspec": {
   "display_name": "MyC",
   "language": "C",
   "name": "myc"
  },
  "language_info": {
   "file_extension": ".c",
   "mimetype": "text/x-csrc",
   "name": "text/x-csrc"
  },
  "widgets": {
   "application/vnd.jupyter.widget-state+json": {
    "state": {},
    "version_major": 2,
    "version_minor": 0
   }
  }
 },
 "nbformat": 4,
 "nbformat_minor": 5
}
