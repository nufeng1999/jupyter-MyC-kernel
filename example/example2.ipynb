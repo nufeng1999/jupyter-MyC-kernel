{
 "cells": [
  {
   "cell_type": "code",
   "execution_count": 30,
   "metadata": {},
   "outputs": [
    {
     "data": {
      "text/plain": [
       "[MyC Kernel] Info:file /root/Jupyter/jupyter-MyC-kernel/example/helloworld.h created successfully\n"
      ]
     },
     "metadata": {
      "text/plain": {}
     },
     "output_type": "display_data"
    }
   ],
   "source": [
    "//%overwritefile\n",
    "//%file:helloworld.h\n",
    "//%noruncode\n",
    "\n",
    "\n",
    "// File: helloworld.h\n",
    "\n",
    "#ifndef GTKMM_EXAMPLE_HELLOWORLD_H\n",
    "#define GTKMM_EXAMPLE_HELLOWORLD_H\n",
    "\n",
    "#include <gtkmm/button.h>\n",
    "#include <gtkmm/window.h>\n",
    "\n",
    "class HelloWorld : public Gtk::Window\n",
    "{\n",
    "\n",
    "public:\n",
    "  HelloWorld();\n",
    "  virtual ~HelloWorld();\n",
    "\n",
    "protected:\n",
    "  //Signal handlers:\n",
    "  void on_button_clicked();\n",
    "\n",
    "  //Member widgets:\n",
    "  Gtk::Button m_button;\n",
    "};\n",
    "\n",
    "#endif"
   ]
  },
  {
   "cell_type": "code",
   "execution_count": 31,
   "metadata": {},
   "outputs": [
    {
     "data": {
      "text/plain": [
       "[MyC Kernel] Info:file /root/Jupyter/jupyter-MyC-kernel/example/helloworld.cc created successfully\n"
      ]
     },
     "metadata": {
      "text/plain": {}
     },
     "output_type": "display_data"
    }
   ],
   "source": [
    "//%overwritefile\n",
    "//%file:helloworld.cc\n",
    "//%noruncode\n",
    "\n",
    "// File: helloworld.cc\n",
    "\n",
    "#include \"helloworld.h\"\n",
    "#include <iostream>\n",
    "\n",
    "HelloWorld::HelloWorld()\n",
    ": m_button(\"Hello World\")   // creates a new button with label \"Hello World\".\n",
    "{\n",
    "  // Sets the border width of the window.\n",
    "  set_border_width(10);\n",
    "\n",
    "  // When the button receives the \"clicked\" signal, it will call the\n",
    "  // on_button_clicked() method defined below.\n",
    "  m_button.signal_clicked().connect(sigc::mem_fun(*this,\n",
    "              &HelloWorld::on_button_clicked));\n",
    "\n",
    "  // This packs the button into the Window (a container).\n",
    "  add(m_button);\n",
    "\n",
    "  // The final step is to display this newly created widget...\n",
    "  m_button.show();\n",
    "}\n",
    "\n",
    "HelloWorld::~HelloWorld()\n",
    "{\n",
    "}\n",
    "\n",
    "void HelloWorld::on_button_clicked()\n",
    "{\n",
    "  std::cout << \"Hello World\" << std::endl;\n",
    "}"
   ]
  },
  {
   "cell_type": "code",
   "execution_count": 32,
   "metadata": {},
   "outputs": [
    {
     "data": {
      "text/plain": [
       "[MyC Kernel] Info:file /root/Jupyter/jupyter-MyC-kernel/example/main.cc created successfully\n"
      ]
     },
     "metadata": {
      "text/plain": {}
     },
     "output_type": "display_data"
    },
    {
     "name": "stdout",
     "output_type": "stream",
     "text": [
      "Generating executable file\n"
     ]
    },
    {
     "data": {
      "text/plain": [
       "[MyC Kernel] Info: gcc /root/Jupyter/jupyter-MyC-kernel/example/main.cc -o /tmp/tmpw202v0xq.out -DBUFFERED_OUTPUT helloworld.cc -pthread -I./ -I/usr/include/gtkmm-3.0 -I/usr/lib/x86_64-linux-gnu/gtkmm-3.0/include -I/usr/include/atkmm-1.6 -I/usr/lib/x86_64-linux-gnu/atkmm-1.6/include -I/usr/include/gtk-3.0/unix-print -I/usr/include/gdkmm-3.0 -I/usr/lib/x86_64-linux-gnu/gdkmm-3.0/include -I/usr/include/giomm-2.4 -I/usr/lib/x86_64-linux-gnu/giomm-2.4/include -I/usr/include/gtk-3.0 -I/usr/include/at-spi2-atk/2.0 -I/usr/include/at-spi-2.0 -I/usr/include/dbus-1.0 -I/usr/lib/x86_64-linux-gnu/dbus-1.0/include -I/usr/include/gtk-3.0 -I/usr/include/gio-unix-2.0 -I/usr/include/cairo -I/usr/include/atk-1.0 -I/usr/include/cairo -I/usr/include/pangomm-1.4 -I/usr/lib/x86_64-linux-gnu/pangomm-1.4/include -I/usr/include/glibmm-2.4 -I/usr/lib/x86_64-linux-gnu/glibmm-2.4/include -I/usr/include/cairomm-1.0 -I/usr/lib/x86_64-linux-gnu/cairomm-1.0/include -I/usr/include/sigc++-2.0 -I/usr/lib/x86_64-linux-gnu/sigc++-2.0/include -I/usr/include/pango-1.0 -I/usr/include/harfbuzz -I/usr/include/pango-1.0 -I/usr/include/fribidi -I/usr/include/harfbuzz -I/usr/include/cairo -I/usr/include/pixman-1 -I/usr/include/uuid -I/usr/include/freetype2 -I/usr/include/libpng16 -I/usr/include/gdk-pixbuf-2.0 -I/usr/include/libpng16 -I/usr/include/x86_64-linux-gnu -I/usr/include/libmount -I/usr/include/blkid -I/usr/include/glib-2.0 -I/usr/lib/x86_64-linux-gnu/glib-2.0/include -lm -Wall -lstdc++ -lgtkmm-3.0 -latkmm-1.6 -lgdkmm-3.0 -lgiomm-2.4 -lgtk-3 -lgdk-3 -latk-1.0 -lcairo-gobject -lgio-2.0 -lpangomm-1.4 -lglibmm-2.4 -lcairomm-1.0 -lsigc-2.0 -lpangocairo-1.0 -lpango-1.0 -lharfbuzz -lcairo -lgdk_pixbuf-2.0 -lgobject-2.0 -lglib-2.0\n"
      ]
     },
     "metadata": {
      "text/plain": {}
     },
     "output_type": "display_data"
    },
    {
     "data": {
      "text/plain": [
       "[MyC Kernel] Info:The process :/tmp/tmpw202v0xq.out\n"
      ]
     },
     "metadata": {
      "text/plain": {}
     },
     "output_type": "display_data"
    },
    {
     "data": {
      "text/plain": [
       "Hello World\n"
      ]
     },
     "metadata": {
      "text/plain": {}
     },
     "output_type": "display_data"
    },
    {
     "data": {
      "text/plain": [
       "Hello World\n"
      ]
     },
     "metadata": {
      "text/plain": {}
     },
     "output_type": "display_data"
    },
    {
     "data": {
      "text/plain": [
       "Hello World\n"
      ]
     },
     "metadata": {
      "text/plain": {}
     },
     "output_type": "display_data"
    },
    {
     "data": {
      "text/plain": [
       "Hello World\n"
      ]
     },
     "metadata": {
      "text/plain": {}
     },
     "output_type": "display_data"
    },
    {
     "data": {
      "text/plain": [
       "Hello World\n"
      ]
     },
     "metadata": {
      "text/plain": {}
     },
     "output_type": "display_data"
    },
    {
     "data": {
      "text/plain": [
       "Hello World\n"
      ]
     },
     "metadata": {
      "text/plain": {}
     },
     "output_type": "display_data"
    },
    {
     "data": {
      "text/plain": [
       "Hello World\n"
      ]
     },
     "metadata": {
      "text/plain": {}
     },
     "output_type": "display_data"
    },
    {
     "data": {
      "text/plain": [
       "The process end:19242\n"
      ]
     },
     "metadata": {
      "text/plain": {}
     },
     "output_type": "display_data"
    }
   ],
   "source": [
    "//%overwritefile\n",
    "//%file:main.cc\n",
    "// pkg-config --cflags gtkmm-3.0 获得编译参数\n",
    "//%cflags:helloworld.cc -pthread -I./ -I/usr/include/gtkmm-3.0 -I/usr/lib/x86_64-linux-gnu/gtkmm-3.0/include -I/usr/include/atkmm-1.6 -I/usr/lib/x86_64-linux-gnu/atkmm-1.6/include -I/usr/include/gtk-3.0/unix-print -I/usr/include/gdkmm-3.0 -I/usr/lib/x86_64-linux-gnu/gdkmm-3.0/include -I/usr/include/giomm-2.4 -I/usr/lib/x86_64-linux-gnu/giomm-2.4/include -I/usr/include/gtk-3.0 -I/usr/include/at-spi2-atk/2.0 -I/usr/include/at-spi-2.0 -I/usr/include/dbus-1.0 -I/usr/lib/x86_64-linux-gnu/dbus-1.0/include -I/usr/include/gtk-3.0 -I/usr/include/gio-unix-2.0 -I/usr/include/cairo -I/usr/include/atk-1.0 -I/usr/include/cairo -I/usr/include/pangomm-1.4 -I/usr/lib/x86_64-linux-gnu/pangomm-1.4/include -I/usr/include/glibmm-2.4 -I/usr/lib/x86_64-linux-gnu/glibmm-2.4/include -I/usr/include/cairomm-1.0 -I/usr/lib/x86_64-linux-gnu/cairomm-1.0/include -I/usr/include/sigc++-2.0 -I/usr/lib/x86_64-linux-gnu/sigc++-2.0/include -I/usr/include/pango-1.0 -I/usr/include/harfbuzz -I/usr/include/pango-1.0 -I/usr/include/fribidi -I/usr/include/harfbuzz -I/usr/include/cairo -I/usr/include/pixman-1 -I/usr/include/uuid -I/usr/include/freetype2 -I/usr/include/libpng16 -I/usr/include/gdk-pixbuf-2.0 -I/usr/include/libpng16 -I/usr/include/x86_64-linux-gnu -I/usr/include/libmount -I/usr/include/blkid -I/usr/include/glib-2.0 -I/usr/lib/x86_64-linux-gnu/glib-2.0/include\n",
    "// pkg-config --libs gtkmm-3.0 获得连接参数\n",
    "//%ldflags:-lstdc++ -lgtkmm-3.0 -latkmm-1.6 -lgdkmm-3.0 -lgiomm-2.4 -lgtk-3 -lgdk-3 -latk-1.0 -lcairo-gobject -lgio-2.0 -lpangomm-1.4 -lglibmm-2.4 -lcairomm-1.0 -lsigc-2.0 -lpangocairo-1.0 -lpango-1.0 -lharfbuzz -lcairo -lgdk_pixbuf-2.0 -lgobject-2.0 -lglib-2.0\n",
    "\n",
    "// File: main.cc\n",
    "\n",
    "#include \"helloworld.h\"\n",
    "#include <gtkmm/application.h>\n",
    "\n",
    "int main (int argc, char *argv[])\n",
    "{\n",
    "  auto app = Gtk::Application::create(argc, argv, \"org.gtkmm.example\");\n",
    "\n",
    "  HelloWorld helloworld;\n",
    "\n",
    "  //Shows the window and returns when it is closed.\n",
    "  return app->run(helloworld);\n",
    "}"
   ]
  },
  {
   "cell_type": "code",
   "execution_count": null,
   "metadata": {},
   "outputs": [],
   "source": []
  }
 ],
 "metadata": {
  "kernelspec": {
   "display_name": "MyC",
   "language": "C",
   "name": "myc"
  },
  "language_info": {
   "file_extension": ".c",
   "mimetype": "text/x-csrc",
   "name": "C"
  },
  "orig_nbformat": 4
 },
 "nbformat": 4,
 "nbformat_minor": 2
}
